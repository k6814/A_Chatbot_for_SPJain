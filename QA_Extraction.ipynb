{
 "cells": [
  {
   "cell_type": "code",
   "execution_count": 1,
   "metadata": {
    "collapsed": true
   },
   "outputs": [],
   "source": [
    "import pandas as pd\n",
    "import re"
   ]
  },
  {
   "cell_type": "code",
   "execution_count": 2,
   "metadata": {
    "collapsed": false
   },
   "outputs": [],
   "source": [
    "df = pd.read_excel('Messages.xlsx')"
   ]
  },
  {
   "cell_type": "code",
   "execution_count": 3,
   "metadata": {
    "collapsed": false
   },
   "outputs": [],
   "source": [
    "def QApairs(df):\n",
    "    QA = ['QApairs']\n",
    "    for i in range(len(df)):\n",
    "        VisMessages = df['Visitor'][i].split('\\n')\n",
    "        for j in VisMessages:\n",
    "            if j[-1] == '?' or j[0:5].lower() =='what ' or j[0:2].lower()=='do' or j[0:3].lower()=='can' \\\n",
    "            or j[0:2].lower() == 'is' or j[0:5].lower()=='would' or j[:4].lower() == 'how ':\n",
    "                if type(df['Chatbot'][i]) != float and df['Chatbot'][i] != \"We apologize for keeping you waiting. Our operators are busy at the moment, please leave us a message with your email address and we'll get back to you shortly.\" and df['Visitor'][i] not in QA[-1]:\n",
    "                    if df['Chatbot'][i] != \"We apologize for keeping you waiting. Our operators are busy at the moment, please leave us a message with your email address and we'll get back to you shortly.\\nHiThis is Angel from S P Jain. I see that you have shared your Name, email id, Phone No. I also see that you are interested in our PG programs. Before we begin, we need some details from you so that we can counsel you betterPlease mentionFrom where did you hear about S P Jain Global Social Media, Alumni, Newspaper ad, other (specify) _____________________The discipline in Under Graduation (ie B.Tech, B.Com General, B.Com Banking and Insurance etc)   ___________________________Month and year you will complete/completed your graduation ______________________The name of your Undergrad College ________________The city you hail from (currently) ________________Have you taken the GMAT (last 3 year) or the CAT (last 2 years) or the SPJAT (last 2 years) (Yes / No) ____________________If yes, what’s your score _________________The years of Work ex do you have (after Graduation) __________________Name of current Organisation __________________\" and df['Chatbot'][i] != \"HiThis is Angel from S P Jain. I see that you have shared your Name, email id, Phone No. I also see that you are interested in our PG programs. Before we begin, we need some details from you so that we can counsel you betterPlease mentionFrom where did you hear about S P Jain Global Social Media, Alumni, Newspaper ad, other (specify) _____________________The discipline in Under Graduation (ie B.Tech, B.Com General, B.Com Banking and Insurance etc)   ___________________________Month and year you will complete/completed your graduation ______________________The name of your Undergrad College ________________The city you hail from (currently) ________________Have you taken the GMAT (last 3 year) or the CAT (last 2 years) or the SPJAT (last 2 years) (Yes / No) ____________________If yes, what’s your score _________________The years of Work ex do you have (after Graduation) __________________Name of current Organisation __________________\":\n",
    "                        QA.append([df['Visitor'][i]])\n",
    "                        QA[-1].append(df['Chatbot'][i])\n",
    "    return QA\n",
    "\n",
    "def QApairs2(df):\n",
    "    QA = ['QApairs']\n",
    "    for i in range(len(df)):\n",
    "        VisMessages = df['Visitor'][i].split('\\n')\n",
    "        for j in VisMessages:\n",
    "            if j[-1] == '?' or j[0:5].lower() =='what ' or j[0:2].lower()=='do' or \\\n",
    "            j[0:3].lower()=='can'or j[0:2].lower()=='is' or j[0:5].lower()=='would' or j[:4].lower() == 'how ':\n",
    "                QA.append([df['Visitor'][i]])\n",
    "                QA[-1].append(df['Chatbot'][i])\n",
    "    return QA\n",
    "\n",
    "def QApairs3(df):\n",
    "    QA = ['QApairs']\n",
    "    for i in range(len(df)):\n",
    "        VisMessages = df['Visitor'][i].split('\\n')\n",
    "        for j in VisMessages:\n",
    "            if j[-1] == '?' or j[0:5].lower() =='what ' or j[0:2].lower()=='do' or \\\n",
    "            j[0:3].lower()=='can'or j[0:2].lower()=='is' or j[0:5].lower()=='would' or j[:4].lower() == 'how ':\n",
    "                QA.append([j])\n",
    "                QA[-1].append(df['Chatbot'][i])\n",
    "    return QA\n",
    "\n",
    "def QApairs4(df):\n",
    "    QA = ['QApairs']\n",
    "    for i in range(len(df)):\n",
    "        VisMessages = df['Visitor'][i].split('\\n')\n",
    "        for j in VisMessages:\n",
    "            if j[-1] == '?' or j[0:5].lower() =='what ' or j[0:2].lower()=='do' or j[0:3].lower()=='can' \\\n",
    "            or j[0:2].lower() == 'is' or j[0:5].lower()=='would' or j[:4].lower() == 'how ':\n",
    "                if type(df['Chatbot'][i]) != float and df['Chatbot'][i] != \"We apologize for keeping you waiting. Our operators are busy at the moment, please leave us a message with your email address and we'll get back to you shortly.\" and df['Visitor'][i] not in QA[-1]:\n",
    "                    if df['Chatbot'][i] != \"We apologize for keeping you waiting. Our operators are busy at the moment, please leave us a message with your email address and we'll get back to you shortly.\\nHiThis is Angel from S P Jain. I see that you have shared your Name, email id, Phone No. I also see that you are interested in our PG programs. Before we begin, we need some details from you so that we can counsel you betterPlease mentionFrom where did you hear about S P Jain Global Social Media, Alumni, Newspaper ad, other (specify) _____________________The discipline in Under Graduation (ie B.Tech, B.Com General, B.Com Banking and Insurance etc)   ___________________________Month and year you will complete/completed your graduation ______________________The name of your Undergrad College ________________The city you hail from (currently) ________________Have you taken the GMAT (last 3 year) or the CAT (last 2 years) or the SPJAT (last 2 years) (Yes / No) ____________________If yes, what’s your score _________________The years of Work ex do you have (after Graduation) __________________Name of current Organisation __________________\" and df['Chatbot'][i] != \"HiThis is Angel from S P Jain. I see that you have shared your Name, email id, Phone No. I also see that you are interested in our PG programs. Before we begin, we need some details from you so that we can counsel you betterPlease mentionFrom where did you hear about S P Jain Global Social Media, Alumni, Newspaper ad, other (specify) _____________________The discipline in Under Graduation (ie B.Tech, B.Com General, B.Com Banking and Insurance etc)   ___________________________Month and year you will complete/completed your graduation ______________________The name of your Undergrad College ________________The city you hail from (currently) ________________Have you taken the GMAT (last 3 year) or the CAT (last 2 years) or the SPJAT (last 2 years) (Yes / No) ____________________If yes, what’s your score _________________The years of Work ex do you have (after Graduation) __________________Name of current Organisation __________________\":\n",
    "                        QA.append([df['Visitor'][i]])\n",
    "                        QA[-1].append(df['Chatbot'][i])\n",
    "    return QA\n",
    "\n",
    "def QAdf(Data):\n",
    "    Data = pd.DataFrame(Data[1:], columns=['Question', 'Answer'])\n",
    "    return Data\n",
    "\n",
    "def dfExcel(df, filename):\n",
    "    writer = pd.ExcelWriter(path= '%s.xlsx'%(filename), engine='xlsxwriter', options={'strings_to_urls': False})\n",
    "    df.to_excel(writer, sheet_name='QA')\n",
    "    writer.save()"
   ]
  },
  {
   "cell_type": "markdown",
   "metadata": {
    "collapsed": true
   },
   "source": [
    "<br>"
   ]
  },
  {
   "cell_type": "code",
   "execution_count": 10,
   "metadata": {
    "collapsed": false
   },
   "outputs": [],
   "source": [
    "QA_1 = QApairs(df)\n",
    "QA_1 = QAdf(QA_1)\n",
    "dfExcel(QA_1, 'QA_1')\n",
    "\n",
    "QA_2 = QApairs2(df)\n",
    "QA_2 = QAdf(QA_2)\n",
    "dfExcel(QA_2, 'QA_2')\n",
    "\n",
    "QA_3 = QApairs3(df)\n",
    "QA_3 = QAdf(QA_3)\n",
    "dfExcel(QA_3, 'QA_3')\n",
    "\n",
    "QA_4 = QApairs4(df)\n",
    "QA_4 = QAdf(QA_4)\n",
    "dfExcel(QA_4, 'QA_4')"
   ]
  },
  {
   "cell_type": "markdown",
   "metadata": {
    "collapsed": true
   },
   "source": [
    "### The 4 datasets:\n",
    "QA_1 - Excludes generic responses such as \"Hi this is angel. I see that you have shared......\". \n",
    "Stores entire visitor message in question column.\n",
    "\n",
    "QA_2 - Includes generic responses. Stores entire visitor message.\n",
    "\n",
    "QA_3 - Includes generic responses. Does not store entire message in question column. Only stores the question sentence.\n",
    "\n",
    "QA_4 - Does not include generic responses. Stores only question and not entire message."
   ]
  },
  {
   "cell_type": "markdown",
   "metadata": {},
   "source": [
    "<br>"
   ]
  },
  {
   "cell_type": "markdown",
   "metadata": {},
   "source": [
    "<br><br><br><br><br><br>"
   ]
  },
  {
   "cell_type": "markdown",
   "metadata": {},
   "source": [
    "<br><br><br><br><br><br><br><br><br><br>"
   ]
  },
  {
   "cell_type": "markdown",
   "metadata": {},
   "source": [
    "### Feature Extraction"
   ]
  },
  {
   "cell_type": "code",
   "execution_count": 36,
   "metadata": {
    "collapsed": true
   },
   "outputs": [],
   "source": [
    "import pandas as pd"
   ]
  },
  {
   "cell_type": "code",
   "execution_count": 37,
   "metadata": {
    "collapsed": false
   },
   "outputs": [],
   "source": [
    "qa=pd.read_excel(\"QA_4.xlsx\")"
   ]
  },
  {
   "cell_type": "code",
   "execution_count": 38,
   "metadata": {
    "collapsed": false
   },
   "outputs": [],
   "source": [
    "import nltk"
   ]
  },
  {
   "cell_type": "code",
   "execution_count": 39,
   "metadata": {
    "collapsed": false
   },
   "outputs": [],
   "source": [
    "#nltk.download('punkt')"
   ]
  },
  {
   "cell_type": "code",
   "execution_count": 40,
   "metadata": {
    "collapsed": false
   },
   "outputs": [],
   "source": [
    "temp=[]\n",
    "for i in range(0,len(qa)):\n",
    "    temp.append(nltk.word_tokenize(qa['Question'][i]))"
   ]
  },
  {
   "cell_type": "code",
   "execution_count": 41,
   "metadata": {
    "collapsed": false
   },
   "outputs": [],
   "source": [
    "#nltk.download('averaged_perceptron_tagger')"
   ]
  },
  {
   "cell_type": "code",
   "execution_count": 42,
   "metadata": {
    "collapsed": false
   },
   "outputs": [],
   "source": [
    "postag = []\n",
    "for i in temp:\n",
    "    postag.append(nltk.pos_tag(i))"
   ]
  },
  {
   "cell_type": "code",
   "execution_count": 43,
   "metadata": {
    "collapsed": true
   },
   "outputs": [],
   "source": [
    "trainData = qa "
   ]
  },
  {
   "cell_type": "code",
   "execution_count": 44,
   "metadata": {
    "collapsed": true
   },
   "outputs": [],
   "source": [
    "trainData['POS'] = postag"
   ]
  },
  {
   "cell_type": "code",
   "execution_count": 45,
   "metadata": {
    "collapsed": false
   },
   "outputs": [],
   "source": [
    "Nouns = []\n",
    "\n",
    "for row in trainData['POS']:\n",
    "    N = []\n",
    "    for num in range(len(row)):\n",
    "        word = row[num]\n",
    "        if word[1][0] == 'N':\n",
    "            N.append(word[0])\n",
    "    Nouns.append(N)\n",
    "\n",
    "            "
   ]
  },
  {
   "cell_type": "code",
   "execution_count": 46,
   "metadata": {
    "collapsed": false
   },
   "outputs": [],
   "source": [
    "trainData['Nouns'] = Nouns"
   ]
  },
  {
   "cell_type": "code",
   "execution_count": 47,
   "metadata": {
    "collapsed": false
   },
   "outputs": [],
   "source": [
    "for i in range(len(trainData)):\n",
    "    trainData['Nouns'][i] = ', '.join(trainData['Nouns'][i])"
   ]
  },
  {
   "cell_type": "code",
   "execution_count": 48,
   "metadata": {
    "collapsed": true
   },
   "outputs": [],
   "source": [
    "WH = []\n",
    "\n",
    "for row in trainData['POS']:\n",
    "    W = []\n",
    "    for num in range(len(row)):\n",
    "        word = row[num]\n",
    "        if word[1][0] == 'W':\n",
    "            W.append(word[0])\n",
    "    WH.append(W)"
   ]
  },
  {
   "cell_type": "code",
   "execution_count": 49,
   "metadata": {
    "collapsed": false
   },
   "outputs": [],
   "source": [
    "trainData['WH Words'] = WH"
   ]
  },
  {
   "cell_type": "code",
   "execution_count": 50,
   "metadata": {
    "collapsed": false
   },
   "outputs": [],
   "source": [
    "for i in range(len(trainData)):\n",
    "    trainData['WH Words'][i] = ', '.join(trainData['WH Words'][i])"
   ]
  },
  {
   "cell_type": "code",
   "execution_count": 51,
   "metadata": {
    "collapsed": false
   },
   "outputs": [],
   "source": [
    "WHgram = []\n",
    "\n",
    "for row in trainData['POS']:\n",
    "    W = []\n",
    "    for num in range(len(row)):\n",
    "        word = row[num]\n",
    "        if word[1][0] == 'W':\n",
    "            if num > 0:\n",
    "                W.append([row[num-1][0], word[0], row[num+1][0]])\n",
    "            else:\n",
    "                 W.append([word[0], row[num+1][0]])\n",
    "                \n",
    "    WHgram.append(W)"
   ]
  },
  {
   "cell_type": "code",
   "execution_count": 52,
   "metadata": {
    "collapsed": true
   },
   "outputs": [],
   "source": [
    "from itertools import chain"
   ]
  },
  {
   "cell_type": "code",
   "execution_count": 53,
   "metadata": {
    "collapsed": false
   },
   "outputs": [],
   "source": [
    "for i in range(len(WHgram)):\n",
    "    WHgram[i] = list(chain.from_iterable(WHgram[i]))"
   ]
  },
  {
   "cell_type": "code",
   "execution_count": 54,
   "metadata": {
    "collapsed": false
   },
   "outputs": [],
   "source": [
    "for i in range(len(WHgram)):\n",
    "    if WHgram[i] == []:\n",
    "        WHgram[i] = ''"
   ]
  },
  {
   "cell_type": "code",
   "execution_count": 55,
   "metadata": {
    "collapsed": false
   },
   "outputs": [],
   "source": [
    "trainData['WH bigram'] = WHgram"
   ]
  },
  {
   "cell_type": "code",
   "execution_count": 56,
   "metadata": {
    "collapsed": false
   },
   "outputs": [
    {
     "data": {
      "text/plain": [
       "['POS', 'Nouns', 'WH Words', 'WH bigram']"
      ]
     },
     "execution_count": 56,
     "metadata": {},
     "output_type": "execute_result"
    }
   ],
   "source": [
    "list(trainData.columns)[2:]"
   ]
  },
  {
   "cell_type": "code",
   "execution_count": 57,
   "metadata": {
    "collapsed": false
   },
   "outputs": [
    {
     "data": {
      "text/plain": [
       "['Question', 'Answer', 'POS', 'Nouns', 'WH Words', 'WH bigram']"
      ]
     },
     "execution_count": 57,
     "metadata": {},
     "output_type": "execute_result"
    }
   ],
   "source": [
    "trainData.columns.tolist()"
   ]
  },
  {
   "cell_type": "code",
   "execution_count": 58,
   "metadata": {
    "collapsed": false
   },
   "outputs": [],
   "source": [
    "trainData = trainData[['Question', 'POS', 'Nouns', 'WH Words', 'WH bigram', 'Answer']]"
   ]
  },
  {
   "cell_type": "code",
   "execution_count": 66,
   "metadata": {
    "collapsed": false
   },
   "outputs": [
    {
     "data": {
      "text/html": [
       "<div>\n",
       "<table border=\"1\" class=\"dataframe\">\n",
       "  <thead>\n",
       "    <tr style=\"text-align: right;\">\n",
       "      <th></th>\n",
       "      <th>Question</th>\n",
       "      <th>POS</th>\n",
       "      <th>Nouns</th>\n",
       "      <th>WH Words</th>\n",
       "      <th>WH bigram</th>\n",
       "      <th>Answer</th>\n",
       "    </tr>\n",
       "  </thead>\n",
       "  <tbody>\n",
       "    <tr>\n",
       "      <th>147</th>\n",
       "      <td>Hi\\nI have some queries regarding Luxury manag...</td>\n",
       "      <td>[(Hi, NNP), (I, PRP), (have, VBP), (some, DT),...</td>\n",
       "      <td>Hi, queries, Luxury, management, program</td>\n",
       "      <td></td>\n",
       "      <td></td>\n",
       "      <td>Yes, sure</td>\n",
       "    </tr>\n",
       "    <tr>\n",
       "      <th>351</th>\n",
       "      <td>I have done my MBA through distance learning f...</td>\n",
       "      <td>[(I, PRP), (have, VBP), (done, VBN), (my, PRP$...</td>\n",
       "      <td>MBA, distance, learning, Wellingkars, score, e...</td>\n",
       "      <td>wat</td>\n",
       "      <td>[know, wat, are]</td>\n",
       "      <td>I would like to inform you that we have our Di...</td>\n",
       "    </tr>\n",
       "    <tr>\n",
       "      <th>48</th>\n",
       "      <td>I am looking out for distance learning mba pro...</td>\n",
       "      <td>[(I, PRP), (am, VBP), (looking, VBG), (out, RP...</td>\n",
       "      <td>distance, learning, mba, programme, distance, ...</td>\n",
       "      <td></td>\n",
       "      <td></td>\n",
       "      <td>We do not offer Distance learning as such.</td>\n",
       "    </tr>\n",
       "  </tbody>\n",
       "</table>\n",
       "</div>"
      ],
      "text/plain": [
       "                                              Question  \\\n",
       "147  Hi\\nI have some queries regarding Luxury manag...   \n",
       "351  I have done my MBA through distance learning f...   \n",
       "48   I am looking out for distance learning mba pro...   \n",
       "\n",
       "                                                   POS  \\\n",
       "147  [(Hi, NNP), (I, PRP), (have, VBP), (some, DT),...   \n",
       "351  [(I, PRP), (have, VBP), (done, VBN), (my, PRP$...   \n",
       "48   [(I, PRP), (am, VBP), (looking, VBG), (out, RP...   \n",
       "\n",
       "                                                 Nouns WH Words  \\\n",
       "147           Hi, queries, Luxury, management, program            \n",
       "351  MBA, distance, learning, Wellingkars, score, e...      wat   \n",
       "48   distance, learning, mba, programme, distance, ...            \n",
       "\n",
       "            WH bigram                                             Answer  \n",
       "147                                                            Yes, sure  \n",
       "351  [know, wat, are]  I would like to inform you that we have our Di...  \n",
       "48                            We do not offer Distance learning as such.  "
      ]
     },
     "execution_count": 66,
     "metadata": {},
     "output_type": "execute_result"
    }
   ],
   "source": [
    "trainData.sample(3)"
   ]
  },
  {
   "cell_type": "code",
   "execution_count": 4,
   "metadata": {
    "collapsed": false
   },
   "outputs": [],
   "source": [
    "trainData.to_excel('TrainData.xlsx')"
   ]
  },
  {
   "cell_type": "code",
   "execution_count": null,
   "metadata": {
    "collapsed": false
   },
   "outputs": [],
   "source": []
  },
  {
   "cell_type": "code",
   "execution_count": null,
   "metadata": {
    "collapsed": true
   },
   "outputs": [],
   "source": []
  }
 ],
 "metadata": {
  "anaconda-cloud": {},
  "kernelspec": {
   "display_name": "Python [conda root]",
   "language": "python",
   "name": "conda-root-py"
  },
  "language_info": {
   "codemirror_mode": {
    "name": "ipython",
    "version": 3
   },
   "file_extension": ".py",
   "mimetype": "text/x-python",
   "name": "python",
   "nbconvert_exporter": "python",
   "pygments_lexer": "ipython3",
   "version": "3.5.2"
  }
 },
 "nbformat": 4,
 "nbformat_minor": 1
}
